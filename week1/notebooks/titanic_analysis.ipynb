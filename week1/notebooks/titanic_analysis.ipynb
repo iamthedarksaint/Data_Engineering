{
 "cells": [
  {
   "cell_type": "markdown",
   "id": "2ed99301-cd0f-479c-beff-2f3e1fa1c05a",
   "metadata": {},
   "source": [
    "## Import neccessary libraries"
   ]
  },
  {
   "cell_type": "code",
   "execution_count": 1,
   "id": "bd7c6982-bbd5-489e-953d-509e8a90cbb8",
   "metadata": {},
   "outputs": [],
   "source": [
    "import pandas as pd\n",
    "import numpy as np\n",
    "import matplotlib.pyplot as plt\n",
    "import seaborn as sns"
   ]
  },
  {
   "cell_type": "markdown",
   "id": "9c91d198-756f-4706-b22a-2ac566b6dd8d",
   "metadata": {},
   "source": [
    "### Loaded my csv file using the pandas method \"read_csv\""
   ]
  },
  {
   "cell_type": "code",
   "execution_count": 3,
   "id": "9efb2865-37f7-4d6a-b6e4-6118d6891f58",
   "metadata": {},
   "outputs": [
    {
     "data": {
      "text/html": [
       "<div>\n",
       "<style scoped>\n",
       "    .dataframe tbody tr th:only-of-type {\n",
       "        vertical-align: middle;\n",
       "    }\n",
       "\n",
       "    .dataframe tbody tr th {\n",
       "        vertical-align: top;\n",
       "    }\n",
       "\n",
       "    .dataframe thead th {\n",
       "        text-align: right;\n",
       "    }\n",
       "</style>\n",
       "<table border=\"1\" class=\"dataframe\">\n",
       "  <thead>\n",
       "    <tr style=\"text-align: right;\">\n",
       "      <th></th>\n",
       "      <th>PassengerId</th>\n",
       "      <th>Survived</th>\n",
       "      <th>Pclass</th>\n",
       "      <th>Name</th>\n",
       "      <th>Sex</th>\n",
       "      <th>Age</th>\n",
       "      <th>SibSp</th>\n",
       "      <th>Parch</th>\n",
       "      <th>Ticket</th>\n",
       "      <th>Fare</th>\n",
       "      <th>Cabin</th>\n",
       "      <th>Embarked</th>\n",
       "    </tr>\n",
       "  </thead>\n",
       "  <tbody>\n",
       "    <tr>\n",
       "      <th>416</th>\n",
       "      <td>1308</td>\n",
       "      <td>0</td>\n",
       "      <td>3</td>\n",
       "      <td>Ware, Mr. Frederick</td>\n",
       "      <td>male</td>\n",
       "      <td>NaN</td>\n",
       "      <td>0</td>\n",
       "      <td>0</td>\n",
       "      <td>359309</td>\n",
       "      <td>8.0500</td>\n",
       "      <td>NaN</td>\n",
       "      <td>S</td>\n",
       "    </tr>\n",
       "    <tr>\n",
       "      <th>417</th>\n",
       "      <td>1309</td>\n",
       "      <td>0</td>\n",
       "      <td>3</td>\n",
       "      <td>Peter, Master. Michael J</td>\n",
       "      <td>male</td>\n",
       "      <td>NaN</td>\n",
       "      <td>1</td>\n",
       "      <td>1</td>\n",
       "      <td>2668</td>\n",
       "      <td>22.3583</td>\n",
       "      <td>NaN</td>\n",
       "      <td>C</td>\n",
       "    </tr>\n",
       "  </tbody>\n",
       "</table>\n",
       "</div>"
      ],
      "text/plain": [
       "     PassengerId  Survived  Pclass                      Name   Sex  Age  \\\n",
       "416         1308         0       3       Ware, Mr. Frederick  male  NaN   \n",
       "417         1309         0       3  Peter, Master. Michael J  male  NaN   \n",
       "\n",
       "     SibSp  Parch  Ticket     Fare Cabin Embarked  \n",
       "416      0      0  359309   8.0500   NaN        S  \n",
       "417      1      1    2668  22.3583   NaN        C  "
      ]
     },
     "execution_count": 3,
     "metadata": {},
     "output_type": "execute_result"
    }
   ],
   "source": [
    "test = pd.read_csv('../data/titanic.csv')\n",
    "\n",
    "# Displayed the first few roles with the method \"head()\"\n",
    "test.tail(2)"
   ]
  },
  {
   "cell_type": "markdown",
   "id": "83fb77ed-abcb-4128-909c-34b7db13487b",
   "metadata": {},
   "source": [
    "### Missing Values"
   ]
  },
  {
   "cell_type": "code",
   "execution_count": 4,
   "id": "f2905f49-4fef-4ad2-a4fc-85bd884a6249",
   "metadata": {},
   "outputs": [
    {
     "data": {
      "text/plain": [
       "414"
      ]
     },
     "execution_count": 4,
     "metadata": {},
     "output_type": "execute_result"
    }
   ],
   "source": [
    "missing = test.isnull().sum().sum()\n",
    "missing"
   ]
  },
  {
   "cell_type": "markdown",
   "id": "55e39bc5-a211-4df4-8c22-b2cc2d67e2e5",
   "metadata": {},
   "source": [
    "#### There are about 414 missing values in total and can be found in the Age, fare and Cabin column.\n",
    "#### The method for checking missing value in python is the \"isnull()\" method. Using the \"sum()\" method helps to combine all rows and give a total count for each column"
   ]
  },
  {
   "cell_type": "markdown",
   "id": "9a46eb88-2ac5-4bca-a54c-88f9db4d10a7",
   "metadata": {},
   "source": [
    "### Handling Missing Data"
   ]
  },
  {
   "cell_type": "code",
   "execution_count": 5,
   "id": "baa6565d-ec48-4be3-adca-05590b649307",
   "metadata": {},
   "outputs": [
    {
     "name": "stdout",
     "output_type": "stream",
     "text": [
      "<class 'pandas.core.series.Series'>\n",
      "RangeIndex: 418 entries, 0 to 417\n",
      "Series name: Age\n",
      "Non-Null Count  Dtype  \n",
      "--------------  -----  \n",
      "332 non-null    float64\n",
      "dtypes: float64(1)\n",
      "memory usage: 3.4 KB\n"
     ]
    }
   ],
   "source": [
    "Age = test['Age']\n",
    "Age.info()"
   ]
  },
  {
   "cell_type": "code",
   "execution_count": 6,
   "id": "f8ffeda0-0182-440e-a2ff-6d164821ed38",
   "metadata": {},
   "outputs": [
    {
     "data": {
      "text/plain": [
       "86"
      ]
     },
     "execution_count": 6,
     "metadata": {},
     "output_type": "execute_result"
    }
   ],
   "source": [
    "age_missing_value = Age.isnull().sum()\n",
    "age_missing_value"
   ]
  },
  {
   "cell_type": "markdown",
   "id": "8fae6061-4c63-46c6-9acc-2aaa5e6dfb34",
   "metadata": {},
   "source": [
    "### The Age column contains in total 86 missing values  and the missing values were handled using dependent columns like Pclass and Sex of the passengers with missing age value to determine their age.\n",
    "### The Embarked column does not have any missing value"
   ]
  },
  {
   "cell_type": "code",
   "execution_count": 7,
   "id": "1dc45ad6-8cfc-4fc4-b837-a1215b91be65",
   "metadata": {},
   "outputs": [],
   "source": [
    "test['Age'] = test.groupby(['Pclass', 'Sex'])['Age'].transform(lambda x: x.fillna(x.median()))\n"
   ]
  },
  {
   "cell_type": "markdown",
   "id": "90ffc5cf",
   "metadata": {},
   "source": []
  },
  {
   "cell_type": "markdown",
   "metadata": {},
   "source": []
  },
  {
   "cell_type": "markdown",
   "id": "02e7b14d",
   "metadata": {},
   "source": []
  },
  {
   "cell_type": "markdown",
   "metadata": {},
   "source": []
  },
  {
   "cell_type": "markdown",
   "metadata": {},
   "source": []
  },
  {
   "cell_type": "code",
   "execution_count": 8,
   "id": "ac049085-6acc-4a5a-80a2-6a6819a05e79",
   "metadata": {},
   "outputs": [
    {
     "data": {
      "text/plain": [
       "PassengerId      0\n",
       "Survived         0\n",
       "Pclass           0\n",
       "Name             0\n",
       "Sex              0\n",
       "Age              0\n",
       "SibSp            0\n",
       "Parch            0\n",
       "Ticket           0\n",
       "Fare             1\n",
       "Cabin          327\n",
       "Embarked         0\n",
       "dtype: int64"
      ]
     },
     "execution_count": 8,
     "metadata": {},
     "output_type": "execute_result"
    }
   ],
   "source": [
    "# Confirming if the Age missing value has been handled\n",
    "missing = test.isnull().sum()\n",
    "missing"
   ]
  },
  {
   "cell_type": "markdown",
   "id": "8250ebda-6750-423d-88ff-d8cedbc0bbdc",
   "metadata": {},
   "source": [
    "### Removing Duplicates "
   ]
  },
  {
   "cell_type": "markdown",
   "id": "9c0349f8-b7b0-4ca0-9f74-cc43ec8c86e3",
   "metadata": {},
   "source": [
    "#### I used the method \"duplicated()\" to check for duplicates in the data but i did not record any duplicates after getting the \n",
    "#### To remove duplicate if any was present, the \"drop_duplicates\" method would be used"
   ]
  },
  {
   "cell_type": "code",
   "execution_count": 9,
   "id": "73d8ecf9-e800-4135-84f0-81388152a443",
   "metadata": {},
   "outputs": [
    {
     "data": {
      "text/html": [
       "<div>\n",
       "<style scoped>\n",
       "    .dataframe tbody tr th:only-of-type {\n",
       "        vertical-align: middle;\n",
       "    }\n",
       "\n",
       "    .dataframe tbody tr th {\n",
       "        vertical-align: top;\n",
       "    }\n",
       "\n",
       "    .dataframe thead th {\n",
       "        text-align: right;\n",
       "    }\n",
       "</style>\n",
       "<table border=\"1\" class=\"dataframe\">\n",
       "  <thead>\n",
       "    <tr style=\"text-align: right;\">\n",
       "      <th></th>\n",
       "      <th>PassengerId</th>\n",
       "      <th>Survived</th>\n",
       "      <th>Pclass</th>\n",
       "      <th>Name</th>\n",
       "      <th>Sex</th>\n",
       "      <th>Age</th>\n",
       "      <th>SibSp</th>\n",
       "      <th>Parch</th>\n",
       "      <th>Ticket</th>\n",
       "      <th>Fare</th>\n",
       "      <th>Cabin</th>\n",
       "      <th>Embarked</th>\n",
       "    </tr>\n",
       "  </thead>\n",
       "  <tbody>\n",
       "  </tbody>\n",
       "</table>\n",
       "</div>"
      ],
      "text/plain": [
       "Empty DataFrame\n",
       "Columns: [PassengerId, Survived, Pclass, Name, Sex, Age, SibSp, Parch, Ticket, Fare, Cabin, Embarked]\n",
       "Index: []"
      ]
     },
     "execution_count": 9,
     "metadata": {},
     "output_type": "execute_result"
    }
   ],
   "source": [
    "# duplicates = test.duplicated().sum()\n",
    "# duplicates\n",
    "\n",
    "duplicate = test[test.duplicated()]\n",
    "duplicate.drop_duplicates()"
   ]
  },
  {
   "cell_type": "markdown",
   "id": "29c31305-82be-4f24-8c51-9e6d906d6ca9",
   "metadata": {},
   "source": [
    "### Data Types"
   ]
  },
  {
   "cell_type": "markdown",
   "id": "3552d181-6fe4-4904-ade9-418c559f9586",
   "metadata": {},
   "source": [
    "#### To check the datatype for each columns in the dataset, i made use of the method \"info()\"\n",
    "#### each column has the correct datatypes and there was no need to change the datatypes"
   ]
  },
  {
   "cell_type": "code",
   "execution_count": 10,
   "id": "5bf9c60e-95ca-4ef0-8d89-633822b0d057",
   "metadata": {},
   "outputs": [
    {
     "name": "stdout",
     "output_type": "stream",
     "text": [
      "<class 'pandas.core.frame.DataFrame'>\n",
      "RangeIndex: 418 entries, 0 to 417\n",
      "Data columns (total 12 columns):\n",
      " #   Column       Non-Null Count  Dtype  \n",
      "---  ------       --------------  -----  \n",
      " 0   PassengerId  418 non-null    int64  \n",
      " 1   Survived     418 non-null    int64  \n",
      " 2   Pclass       418 non-null    int64  \n",
      " 3   Name         418 non-null    object \n",
      " 4   Sex          418 non-null    object \n",
      " 5   Age          418 non-null    float64\n",
      " 6   SibSp        418 non-null    int64  \n",
      " 7   Parch        418 non-null    int64  \n",
      " 8   Ticket       418 non-null    object \n",
      " 9   Fare         417 non-null    float64\n",
      " 10  Cabin        91 non-null     object \n",
      " 11  Embarked     418 non-null    object \n",
      "dtypes: float64(2), int64(5), object(5)\n",
      "memory usage: 39.3+ KB\n"
     ]
    }
   ],
   "source": [
    "test.info()"
   ]
  },
  {
   "cell_type": "markdown",
   "id": "e10de223-c4cd-40e6-87d5-bd926fbf15d8",
   "metadata": {},
   "source": [
    "## Data Exploration"
   ]
  },
  {
   "cell_type": "markdown",
   "id": "7197c58f-3569-46d7-9c3c-ead53da450fb",
   "metadata": {},
   "source": [
    "#### I used different statistic methods from pandas such as mean(), median(), min(), max() to make basic calculation on numeric columns\n",
    "#### I also used the \"describe()\" method which summarized all tge statics for me"
   ]
  },
  {
   "cell_type": "code",
   "execution_count": 11,
   "id": "3693f3ad-3e0d-4597-9457-7574e6ba0b9d",
   "metadata": {},
   "outputs": [
    {
     "data": {
      "text/html": [
       "<div>\n",
       "<style scoped>\n",
       "    .dataframe tbody tr th:only-of-type {\n",
       "        vertical-align: middle;\n",
       "    }\n",
       "\n",
       "    .dataframe tbody tr th {\n",
       "        vertical-align: top;\n",
       "    }\n",
       "\n",
       "    .dataframe thead th {\n",
       "        text-align: right;\n",
       "    }\n",
       "</style>\n",
       "<table border=\"1\" class=\"dataframe\">\n",
       "  <thead>\n",
       "    <tr style=\"text-align: right;\">\n",
       "      <th></th>\n",
       "      <th>Mean</th>\n",
       "      <th>Median</th>\n",
       "      <th>Min</th>\n",
       "      <th>Max</th>\n",
       "    </tr>\n",
       "  </thead>\n",
       "  <tbody>\n",
       "    <tr>\n",
       "      <th>PassengerId</th>\n",
       "      <td>1100.500000</td>\n",
       "      <td>1100.5000</td>\n",
       "      <td>892.00</td>\n",
       "      <td>1309.0000</td>\n",
       "    </tr>\n",
       "    <tr>\n",
       "      <th>Survived</th>\n",
       "      <td>0.363636</td>\n",
       "      <td>0.0000</td>\n",
       "      <td>0.00</td>\n",
       "      <td>1.0000</td>\n",
       "    </tr>\n",
       "    <tr>\n",
       "      <th>Pclass</th>\n",
       "      <td>2.265550</td>\n",
       "      <td>3.0000</td>\n",
       "      <td>1.00</td>\n",
       "      <td>3.0000</td>\n",
       "    </tr>\n",
       "    <tr>\n",
       "      <th>Age</th>\n",
       "      <td>29.297847</td>\n",
       "      <td>25.0000</td>\n",
       "      <td>0.17</td>\n",
       "      <td>76.0000</td>\n",
       "    </tr>\n",
       "    <tr>\n",
       "      <th>SibSp</th>\n",
       "      <td>0.447368</td>\n",
       "      <td>0.0000</td>\n",
       "      <td>0.00</td>\n",
       "      <td>8.0000</td>\n",
       "    </tr>\n",
       "    <tr>\n",
       "      <th>Parch</th>\n",
       "      <td>0.392344</td>\n",
       "      <td>0.0000</td>\n",
       "      <td>0.00</td>\n",
       "      <td>9.0000</td>\n",
       "    </tr>\n",
       "    <tr>\n",
       "      <th>Fare</th>\n",
       "      <td>35.627188</td>\n",
       "      <td>14.4542</td>\n",
       "      <td>0.00</td>\n",
       "      <td>512.3292</td>\n",
       "    </tr>\n",
       "  </tbody>\n",
       "</table>\n",
       "</div>"
      ],
      "text/plain": [
       "                    Mean     Median     Min        Max\n",
       "PassengerId  1100.500000  1100.5000  892.00  1309.0000\n",
       "Survived        0.363636     0.0000    0.00     1.0000\n",
       "Pclass          2.265550     3.0000    1.00     3.0000\n",
       "Age            29.297847    25.0000    0.17    76.0000\n",
       "SibSp           0.447368     0.0000    0.00     8.0000\n",
       "Parch           0.392344     0.0000    0.00     9.0000\n",
       "Fare           35.627188    14.4542    0.00   512.3292"
      ]
     },
     "execution_count": 11,
     "metadata": {},
     "output_type": "execute_result"
    }
   ],
   "source": [
    "statistics = pd.DataFrame({\n",
    "    'Mean': test.mean(numeric_only=True),\n",
    "    'Median': test.median(numeric_only=True),\n",
    "    'Min': test.min(numeric_only=True),\n",
    "    'Max': test.max(numeric_only=True),\n",
    "})\n",
    "statistics"
   ]
  },
  {
   "cell_type": "code",
   "execution_count": 12,
   "id": "4e157e5b-4f58-4b50-a7ea-443da7da793d",
   "metadata": {},
   "outputs": [
    {
     "data": {
      "text/html": [
       "<div>\n",
       "<style scoped>\n",
       "    .dataframe tbody tr th:only-of-type {\n",
       "        vertical-align: middle;\n",
       "    }\n",
       "\n",
       "    .dataframe tbody tr th {\n",
       "        vertical-align: top;\n",
       "    }\n",
       "\n",
       "    .dataframe thead th {\n",
       "        text-align: right;\n",
       "    }\n",
       "</style>\n",
       "<table border=\"1\" class=\"dataframe\">\n",
       "  <thead>\n",
       "    <tr style=\"text-align: right;\">\n",
       "      <th></th>\n",
       "      <th>PassengerId</th>\n",
       "      <th>Survived</th>\n",
       "      <th>Pclass</th>\n",
       "      <th>Age</th>\n",
       "      <th>SibSp</th>\n",
       "      <th>Parch</th>\n",
       "      <th>Fare</th>\n",
       "    </tr>\n",
       "  </thead>\n",
       "  <tbody>\n",
       "    <tr>\n",
       "      <th>count</th>\n",
       "      <td>418.000000</td>\n",
       "      <td>418.000000</td>\n",
       "      <td>418.000000</td>\n",
       "      <td>418.000000</td>\n",
       "      <td>418.000000</td>\n",
       "      <td>418.000000</td>\n",
       "      <td>417.000000</td>\n",
       "    </tr>\n",
       "    <tr>\n",
       "      <th>mean</th>\n",
       "      <td>1100.500000</td>\n",
       "      <td>0.363636</td>\n",
       "      <td>2.265550</td>\n",
       "      <td>29.297847</td>\n",
       "      <td>0.447368</td>\n",
       "      <td>0.392344</td>\n",
       "      <td>35.627188</td>\n",
       "    </tr>\n",
       "    <tr>\n",
       "      <th>std</th>\n",
       "      <td>120.810458</td>\n",
       "      <td>0.481622</td>\n",
       "      <td>0.841838</td>\n",
       "      <td>13.038856</td>\n",
       "      <td>0.896760</td>\n",
       "      <td>0.981429</td>\n",
       "      <td>55.907576</td>\n",
       "    </tr>\n",
       "    <tr>\n",
       "      <th>min</th>\n",
       "      <td>892.000000</td>\n",
       "      <td>0.000000</td>\n",
       "      <td>1.000000</td>\n",
       "      <td>0.170000</td>\n",
       "      <td>0.000000</td>\n",
       "      <td>0.000000</td>\n",
       "      <td>0.000000</td>\n",
       "    </tr>\n",
       "    <tr>\n",
       "      <th>25%</th>\n",
       "      <td>996.250000</td>\n",
       "      <td>0.000000</td>\n",
       "      <td>1.000000</td>\n",
       "      <td>22.000000</td>\n",
       "      <td>0.000000</td>\n",
       "      <td>0.000000</td>\n",
       "      <td>7.895800</td>\n",
       "    </tr>\n",
       "    <tr>\n",
       "      <th>50%</th>\n",
       "      <td>1100.500000</td>\n",
       "      <td>0.000000</td>\n",
       "      <td>3.000000</td>\n",
       "      <td>25.000000</td>\n",
       "      <td>0.000000</td>\n",
       "      <td>0.000000</td>\n",
       "      <td>14.454200</td>\n",
       "    </tr>\n",
       "    <tr>\n",
       "      <th>75%</th>\n",
       "      <td>1204.750000</td>\n",
       "      <td>1.000000</td>\n",
       "      <td>3.000000</td>\n",
       "      <td>36.375000</td>\n",
       "      <td>1.000000</td>\n",
       "      <td>0.000000</td>\n",
       "      <td>31.500000</td>\n",
       "    </tr>\n",
       "    <tr>\n",
       "      <th>max</th>\n",
       "      <td>1309.000000</td>\n",
       "      <td>1.000000</td>\n",
       "      <td>3.000000</td>\n",
       "      <td>76.000000</td>\n",
       "      <td>8.000000</td>\n",
       "      <td>9.000000</td>\n",
       "      <td>512.329200</td>\n",
       "    </tr>\n",
       "  </tbody>\n",
       "</table>\n",
       "</div>"
      ],
      "text/plain": [
       "       PassengerId    Survived      Pclass         Age       SibSp  \\\n",
       "count   418.000000  418.000000  418.000000  418.000000  418.000000   \n",
       "mean   1100.500000    0.363636    2.265550   29.297847    0.447368   \n",
       "std     120.810458    0.481622    0.841838   13.038856    0.896760   \n",
       "min     892.000000    0.000000    1.000000    0.170000    0.000000   \n",
       "25%     996.250000    0.000000    1.000000   22.000000    0.000000   \n",
       "50%    1100.500000    0.000000    3.000000   25.000000    0.000000   \n",
       "75%    1204.750000    1.000000    3.000000   36.375000    1.000000   \n",
       "max    1309.000000    1.000000    3.000000   76.000000    8.000000   \n",
       "\n",
       "            Parch        Fare  \n",
       "count  418.000000  417.000000  \n",
       "mean     0.392344   35.627188  \n",
       "std      0.981429   55.907576  \n",
       "min      0.000000    0.000000  \n",
       "25%      0.000000    7.895800  \n",
       "50%      0.000000   14.454200  \n",
       "75%      0.000000   31.500000  \n",
       "max      9.000000  512.329200  "
      ]
     },
     "execution_count": 12,
     "metadata": {},
     "output_type": "execute_result"
    }
   ],
   "source": [
    "test.describe()"
   ]
  },
  {
   "cell_type": "markdown",
   "id": "4e8ea530-9faa-4fbe-8310-97a024ae358e",
   "metadata": {},
   "source": [
    "### For the grouping, i used the 'groupby()' method to group different columns with 'Survived' to draw some insights such as survivors by age, by class and so on"
   ]
  },
  {
   "cell_type": "code",
   "execution_count": 13,
   "id": "7c3f73d4-2e9f-4af7-a477-ce92a9843825",
   "metadata": {},
   "outputs": [
    {
     "data": {
      "text/plain": [
       "Pclass\n",
       "1    0.467290\n",
       "2    0.322581\n",
       "3    0.330275\n",
       "Name: Survived, dtype: float64"
      ]
     },
     "execution_count": 13,
     "metadata": {},
     "output_type": "execute_result"
    }
   ],
   "source": [
    "#Survival by class\n",
    "survival_by_class = test.groupby(['Pclass'])['Survived'].mean()\n",
    "survival_by_class"
   ]
  },
  {
   "cell_type": "code",
   "execution_count": 14,
   "id": "3b40eb23-2358-4946-884b-8265d4501f4f",
   "metadata": {},
   "outputs": [
    {
     "data": {
      "text/plain": [
       "29.174934210526317"
      ]
     },
     "execution_count": 14,
     "metadata": {},
     "output_type": "execute_result"
    }
   ],
   "source": [
    "#Average age of passenger who survived\n",
    "survivals = test[test['Survived'] == 1]\n",
    "average_age_of_survivals = survivals['Age'].mean()\n",
    "average_age_of_survivals"
   ]
  },
  {
   "cell_type": "code",
   "execution_count": 15,
   "id": "f895d39b-8b93-486c-97f2-6ead210bdb8d",
   "metadata": {},
   "outputs": [
    {
     "data": {
      "text/plain": [
       "Sex\n",
       "male      266\n",
       "female    152\n",
       "Name: count, dtype: int64"
      ]
     },
     "execution_count": 15,
     "metadata": {},
     "output_type": "execute_result"
    }
   ],
   "source": [
    "#Gender Distribution\n",
    "gender_distribution = test['Sex'].value_counts()\n",
    "gender_distribution"
   ]
  },
  {
   "cell_type": "markdown",
   "id": "fb47612e-a4b9-4267-aa3d-4a690f199925",
   "metadata": {},
   "source": [
    "## Data Analysis"
   ]
  },
  {
   "cell_type": "code",
   "execution_count": 22,
   "id": "1f9a9226-710e-4805-94ff-db457d5a919e",
   "metadata": {},
   "outputs": [
    {
     "data": {
      "text/plain": [
       "grouped_age\n",
       "0-12     43.478261\n",
       "13-18    38.888889\n",
       "19-35    34.496124\n",
       "36-50    36.144578\n",
       "51-65    44.117647\n",
       "66-80    50.000000\n",
       "Name: Survived, dtype: float64"
      ]
     },
     "execution_count": 22,
     "metadata": {},
     "output_type": "execute_result"
    }
   ],
   "source": [
    "#Survival Rates by Age Groups: \n",
    "bin = [0, 12, 18, 35, 50, 65, 80]\n",
    "label = ['0-12', '13-18', '19-35', '36-50', '51-65', '66-80']\n",
    "test['grouped_age'] = pd.cut(test['Age'], bins=bin, labels=label, right=False)\n",
    "\n",
    "Survival_rate_by_age_group = test.groupby('grouped_age', observed=False)['Survived'].mean() * 100\n",
    "Survival_rate_by_age_group"
   ]
  },
  {
   "cell_type": "code",
   "execution_count": 23,
   "id": "d6b70b3b-cd75-4a7e-91c9-4021b9c07a78",
   "metadata": {},
   "outputs": [
    {
     "data": {
      "image/png": "[encoded data removed]",
      "text/plain": [
       "<Figure size 640x480 with 1 Axes>"
      ]
     },
     "metadata": {},
     "output_type": "display_data"
    }
   ],
   "source": [
    "Survival_rate_by_age_group.plot(kind='bar', color='red')\n",
    "plt.title('Survival Rate by Age Group')\n",
    "plt.xlabel('Age')\n",
    "plt.ylabel('Survival Rate(%)')\n",
    "plt.show()"
   ]
  },
  {
   "cell_type": "code",
   "execution_count": 24,
   "id": "7cb67ae7-fd60-4d9d-8bdc-726cc44768f9",
   "metadata": {},
   "outputs": [
    {
     "data": {
      "text/plain": [
       "Sex\n",
       "female    100.0\n",
       "male        0.0\n",
       "Name: Survived, dtype: float64"
      ]
     },
     "execution_count": 24,
     "metadata": {},
     "output_type": "execute_result"
    }
   ],
   "source": [
    "Survival_rate_by_gender = test.groupby(['Sex'])['Survived'].mean() * 100\n",
    "Survival_rate_by_gender"
   ]
  },
  {
   "cell_type": "code",
   "execution_count": 25,
   "id": "5a35e45d-53a0-4aaf-a075-c62279bb29f5",
   "metadata": {},
   "outputs": [
    {
     "data": {
      "image/png": "[encoded data removed]",
      "text/plain": [
       "<Figure size 640x480 with 1 Axes>"
      ]
     },
     "metadata": {},
     "output_type": "display_data"
    }
   ],
   "source": [
    "Survival_rate_by_gender.plot(kind='bar', color=['red', 'lightpink'])\n",
    "plt.title('Survival Rate by Gender')\n",
    "plt.xlabel('Gender')\n",
    "plt.ylabel('Survival Rate (%)')\n",
    "plt.show()"
   ]
  },
  {
   "cell_type": "code",
   "execution_count": 29,
   "id": "d5d4c10c-4b21-42ae-af2a-9ea159869d68",
   "metadata": {},
   "outputs": [
    {
     "data": {
      "image/png": "[encoded data removed]",
      "text/plain": [
       "<Figure size 1000x600 with 1 Axes>"
      ]
     },
     "metadata": {},
     "output_type": "display_data"
    }
   ],
   "source": [
    "Survival_rate_by_gender_and_age_group = test.groupby(['grouped_age', 'Sex'], observed=False)['Survived'].mean().unstack() * 100\n",
    "Survival_rate_by_gender_and_age_group.plot(kind='bar', figsize=(10, 6),color=['blue', 'red'])\n",
    "plt.title('Survival Rate by Gender and Age')\n",
    "plt.xlabel('Age')\n",
    "plt.ylabel('Survival Rate (%)')\n",
    "plt.xticks(rotation=0)\n",
    "plt.legend(title='Gender')\n",
    "plt.show()"
   ]
  },
  {
   "cell_type": "code",
   "execution_count": null,
   "id": "a09d68bc-cc19-44ed-817c-c010c02e117c",
   "metadata": {},
   "outputs": [],
   "source": []
  }
 ],
 "metadata": {
  "kernelspec": {
   "display_name": "base",
   "language": "python",
   "name": "python3"
  },
  "language_info": {
   "codemirror_mode": {
    "name": "ipython",
    "version": 3
   },
   "file_extension": ".py",
   "mimetype": "text/x-python",
   "name": "python",
   "nbconvert_exporter": "python",
   "pygments_lexer": "ipython3",
   "version": "3.12.4"
  }
 },
 "nbformat": 4,
 "nbformat_minor": 5
}
